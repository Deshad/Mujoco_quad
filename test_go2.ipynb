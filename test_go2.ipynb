{
 "cells": [
  {
   "cell_type": "code",
   "execution_count": 11,
   "metadata": {},
   "outputs": [
    {
     "name": "stdout",
     "output_type": "stream",
     "text": [
      "Simulating for 10.0 seconds (5000 steps)...\n"
     ]
    },
    {
     "ename": "RuntimeError",
     "evalue": "`launch_passive` requires that the Python script be run under `mjpython` on macOS",
     "output_type": "error",
     "traceback": [
      "\u001b[31m---------------------------------------------------------------------------\u001b[39m",
      "\u001b[31mRuntimeError\u001b[39m                              Traceback (most recent call last)",
      "\u001b[36mCell\u001b[39m\u001b[36m \u001b[39m\u001b[32mIn[11]\u001b[39m\u001b[32m, line 51\u001b[39m\n\u001b[32m     46\u001b[39m \u001b[38;5;28mprint\u001b[39m(\u001b[33mf\u001b[39m\u001b[33m\"\u001b[39m\u001b[33mSimulating for \u001b[39m\u001b[38;5;132;01m{\u001b[39;00msim_duration\u001b[38;5;132;01m:\u001b[39;00m\u001b[33m.1f\u001b[39m\u001b[38;5;132;01m}\u001b[39;00m\u001b[33m seconds (\u001b[39m\u001b[38;5;132;01m{\u001b[39;00mn_steps\u001b[38;5;132;01m}\u001b[39;00m\u001b[33m steps)...\u001b[39m\u001b[33m\"\u001b[39m)\n\u001b[32m     48\u001b[39m \u001b[38;5;66;03m# ------------------------------------------------------------\u001b[39;00m\n\u001b[32m     49\u001b[39m \u001b[38;5;66;03m# Launch viewer\u001b[39;00m\n\u001b[32m     50\u001b[39m \u001b[38;5;66;03m# ------------------------------------------------------------\u001b[39;00m\n\u001b[32m---> \u001b[39m\u001b[32m51\u001b[39m \u001b[38;5;28;01mwith\u001b[39;00m \u001b[43mmujoco\u001b[49m\u001b[43m.\u001b[49m\u001b[43mviewer\u001b[49m\u001b[43m.\u001b[49m\u001b[43mlaunch_passive\u001b[49m\u001b[43m(\u001b[49m\u001b[43mmodel\u001b[49m\u001b[43m,\u001b[49m\u001b[43m \u001b[49m\u001b[43mdata\u001b[49m\u001b[43m)\u001b[49m \u001b[38;5;28;01mas\u001b[39;00m viewer:\n\u001b[32m     52\u001b[39m     start_time = time.time()\n\u001b[32m     54\u001b[39m     \u001b[38;5;28;01mfor\u001b[39;00m i \u001b[38;5;129;01min\u001b[39;00m \u001b[38;5;28mrange\u001b[39m(n_steps):\n",
      "\u001b[36mFile \u001b[39m\u001b[32m~/Desktop/unitree/unitree_env/lib/python3.11/site-packages/mujoco/viewer.py:590\u001b[39m, in \u001b[36mlaunch_passive\u001b[39m\u001b[34m(model, data, key_callback, show_left_ui, show_right_ui)\u001b[39m\n\u001b[32m    588\u001b[39m \u001b[38;5;28;01melse\u001b[39;00m:\n\u001b[32m    589\u001b[39m   \u001b[38;5;28;01mif\u001b[39;00m \u001b[38;5;129;01mnot\u001b[39;00m \u001b[38;5;28misinstance\u001b[39m(_MJPYTHON, _MjPythonBase):\n\u001b[32m--> \u001b[39m\u001b[32m590\u001b[39m     \u001b[38;5;28;01mraise\u001b[39;00m \u001b[38;5;167;01mRuntimeError\u001b[39;00m(\n\u001b[32m    591\u001b[39m         \u001b[33m'\u001b[39m\u001b[33m`launch_passive` requires that the Python script be run under \u001b[39m\u001b[33m'\u001b[39m\n\u001b[32m    592\u001b[39m         \u001b[33m'\u001b[39m\u001b[33m`mjpython` on macOS\u001b[39m\u001b[33m'\u001b[39m\n\u001b[32m    593\u001b[39m     )\n\u001b[32m    594\u001b[39m   _MJPYTHON.launch_on_ui_thread(\n\u001b[32m    595\u001b[39m       model,\n\u001b[32m    596\u001b[39m       data,\n\u001b[32m   (...)\u001b[39m\u001b[32m    600\u001b[39m       show_right_ui,\n\u001b[32m    601\u001b[39m   )\n\u001b[32m    603\u001b[39m \u001b[38;5;28;01mreturn\u001b[39;00m handle_return.get()\n",
      "\u001b[31mRuntimeError\u001b[39m: `launch_passive` requires that the Python script be run under `mjpython` on macOS"
     ]
    }
   ],
   "source": [
    "import mujoco\n",
    "import mujoco.viewer\n",
    "import numpy as np\n",
    "import time\n",
    "import matplotlib.pyplot as plt\n",
    "\n",
    "# ------------------------------------------------------------\n",
    "# Load the Go2 quadruped model\n",
    "# ------------------------------------------------------------\n",
    "model = mujoco.MjModel.from_xml_path(\"/Users/gagandeshad/Desktop/unitree/mujoco_menagerie/unitree_go2/scene.xml\")\n",
    "data = mujoco.MjData(model)\n",
    "\n",
    "# ------------------------------------------------------------\n",
    "# Gait parameters\n",
    "# ------------------------------------------------------------\n",
    "A_hip = 0.2        # amplitude for hip (radians)\n",
    "A_thigh = 0.8      # amplitude for thigh\n",
    "A_knee_offset = -1.8\n",
    "A_knee_swing = 0.7\n",
    "freq = 2.0         # stepping frequency (Hz)\n",
    "omega = 2 * np.pi * freq\n",
    "\n",
    "# Phase offsets (trot gait)\n",
    "# FL & RR in phase; FR & RL in opposite phase\n",
    "phase = {\n",
    "    \"FL\": 0,\n",
    "    \"RR\": 0,\n",
    "    \"FR\": np.pi,\n",
    "    \"RL\": np.pi\n",
    "}\n",
    "\n",
    "# ------------------------------------------------------------\n",
    "# Logging setup\n",
    "# ------------------------------------------------------------\n",
    "pos_log = []\n",
    "vel_log = []\n",
    "time_log = []\n",
    "\n",
    "# ------------------------------------------------------------\n",
    "# Simulation setup\n",
    "# ------------------------------------------------------------\n",
    "sim_duration = 10.0  # seconds\n",
    "timestep = model.opt.timestep\n",
    "n_steps = int(sim_duration / timestep)\n",
    "\n",
    "print(f\"Simulating for {sim_duration:.1f} seconds ({n_steps} steps)...\")\n",
    "\n",
    "# ------------------------------------------------------------\n",
    "# Launch viewer\n",
    "# ------------------------------------------------------------\n",
    "with mujoco.viewer.launch_passive(model, data) as viewer:\n",
    "    start_time = time.time()\n",
    "\n",
    "    for i in range(n_steps):\n",
    "        t = i * timestep\n",
    "\n",
    "        # Apply trot control to each leg\n",
    "        for leg in [\"FL\", \"FR\", \"RL\", \"RR\"]:\n",
    "            phi = phase[leg]\n",
    "\n",
    "            hip_cmd = 0.05 * np.sin(omega * t + phi)            # small abduction\n",
    "            thigh_cmd = -A_thigh * np.sin(omega * t + phi)      # forward swing (note negative)\n",
    "            knee_cmd = A_knee_offset + A_knee_swing * np.sin(omega * t + phi + np.pi)\n",
    "\n",
    "            data.ctrl[model.actuator(f\"{leg}_hip\").id] = hip_cmd\n",
    "            data.ctrl[model.actuator(f\"{leg}_thigh\").id] = thigh_cmd\n",
    "            data.ctrl[model.actuator(f\"{leg}_calf\").id] = knee_cmd\n",
    "\n",
    "        # Step simulation\n",
    "        mujoco.mj_step(model, data)\n",
    "\n",
    "        # Log base position and velocity along x-axis\n",
    "        pos_x = data.qpos[0]       # base x position\n",
    "        vel_x = data.qvel[0]       # base x velocity\n",
    "        pos_log.append(pos_x)\n",
    "        vel_log.append(vel_x)\n",
    "        time_log.append(t)\n",
    "\n",
    "        # Update viewer\n",
    "        viewer.sync()\n",
    "        if viewer.is_running() is False:\n",
    "            break\n",
    "\n",
    "        # Optional real-time pacing\n",
    "        elapsed = time.time() - start_time\n",
    "        if t > elapsed:\n",
    "            time.sleep(t - elapsed)\n",
    "\n",
    "# ------------------------------------------------------------\n",
    "# Plot logged data\n",
    "# ------------------------------------------------------------\n",
    "plt.figure(figsize=(10, 5))\n",
    "plt.subplot(2, 1, 1)\n",
    "plt.plot(time_log, pos_log, label=\"Position (x)\")\n",
    "plt.ylabel(\"Position (m)\")\n",
    "plt.legend()\n",
    "plt.grid(True)\n",
    "\n",
    "plt.subplot(2, 1, 2)\n",
    "plt.plot(time_log, vel_log, label=\"Velocity (x)\", color='orange')\n",
    "plt.xlabel(\"Time (s)\")\n",
    "plt.ylabel(\"Velocity (m/s)\")\n",
    "plt.legend()\n",
    "plt.grid(True)\n",
    "\n",
    "plt.suptitle(\"Go2 Forward Trot Gait – Position and Velocity Over Time\")\n",
    "plt.tight_layout()\n",
    "plt.show()\n"
   ]
  },
  {
   "cell_type": "code",
   "execution_count": 1,
   "metadata": {},
   "outputs": [],
   "source": [
    "import mujoco\n",
    "import mujoco.viewer\n",
    "import numpy as np\n",
    "import os"
   ]
  },
  {
   "cell_type": "code",
   "execution_count": 2,
   "metadata": {},
   "outputs": [],
   "source": [
    "base_path = \"/Users/gagandeshad/Desktop/unitree/mujoco_menagerie\"\n",
    "model_path = f\"{base_path}/unitree_go2/scene.xml\""
   ]
  },
  {
   "cell_type": "code",
   "execution_count": 3,
   "metadata": {},
   "outputs": [
    {
     "name": "stdout",
     "output_type": "stream",
     "text": [
      "Loading model: /Users/gagandeshad/Desktop/unitree/mujoco_menagerie/unitree_go2/scene.xml\n"
     ]
    }
   ],
   "source": [
    "print(f\"Loading model: {model_path}\")\n",
    "model = mujoco.MjModel.from_xml_path(model_path)\n",
    "data = mujoco.MjData(model)"
   ]
  },
  {
   "cell_type": "code",
   "execution_count": 4,
   "metadata": {},
   "outputs": [
    {
     "ename": "NameError",
     "evalue": "name 'leg_joints' is not defined",
     "output_type": "error",
     "traceback": [
      "\u001b[31m---------------------------------------------------------------------------\u001b[39m",
      "\u001b[31mNameError\u001b[39m                                 Traceback (most recent call last)",
      "\u001b[36mCell\u001b[39m\u001b[36m \u001b[39m\u001b[32mIn[4]\u001b[39m\u001b[32m, line 26\u001b[39m\n\u001b[32m     23\u001b[39m             roles[leg][\u001b[33m'\u001b[39m\u001b[33mcalf\u001b[39m\u001b[33m'\u001b[39m] = jids[\u001b[32m2\u001b[39m]\n\u001b[32m     24\u001b[39m     \u001b[38;5;28;01mreturn\u001b[39;00m roles\n\u001b[32m---> \u001b[39m\u001b[32m26\u001b[39m roles = identify_leg_roles(model, \u001b[43mleg_joints\u001b[49m)\n\u001b[32m     27\u001b[39m \u001b[38;5;28mprint\u001b[39m(\u001b[33m\"\u001b[39m\u001b[33mDetected leg roles:\u001b[39m\u001b[33m\"\u001b[39m, {k: {r: (model.joint(v).name \u001b[38;5;28;01mif\u001b[39;00m v \u001b[38;5;129;01mis\u001b[39;00m \u001b[38;5;129;01mnot\u001b[39;00m \u001b[38;5;28;01mNone\u001b[39;00m \u001b[38;5;28;01melse\u001b[39;00m \u001b[38;5;28;01mNone\u001b[39;00m)\n\u001b[32m     28\u001b[39m                                 \u001b[38;5;28;01mfor\u001b[39;00m r, v \u001b[38;5;129;01min\u001b[39;00m roles[k].items()} \u001b[38;5;28;01mfor\u001b[39;00m k \u001b[38;5;129;01min\u001b[39;00m roles})\n",
      "\u001b[31mNameError\u001b[39m: name 'leg_joints' is not defined"
     ]
    }
   ],
   "source": [
    "# identify roles by name so we use the hip-pitch DOF (fore/aft) not hip-yaw (turning)\n",
    "def identify_leg_roles(model, leg_joints):\n",
    "    roles = {}\n",
    "    for leg, jids in leg_joints.items():\n",
    "        roles[leg] = {'hip_pitch': None, 'thigh': None, 'calf': None}\n",
    "        for jid in jids:\n",
    "            nm = model.joint(jid).name.lower()\n",
    "            if 'hip' in nm and 'pitch' in nm:\n",
    "                roles[leg]['hip_pitch'] = jid\n",
    "            elif 'thigh' in nm or 'femur' in nm or 'upper' in nm:\n",
    "                roles[leg]['thigh'] = jid\n",
    "            elif 'calf' in nm or 'knee' in nm:\n",
    "                roles[leg]['calf'] = jid\n",
    "        # fallback: if hip_pitch not found, use first 'hip' containing joint or first joint\n",
    "        if roles[leg]['hip_pitch'] is None:\n",
    "            for jid in jids:\n",
    "                if 'hip' in model.joint(jid).name.lower():\n",
    "                    roles[leg]['hip_pitch'] = jid\n",
    "                    break\n",
    "        if roles[leg]['thigh'] is None and len(jids) >= 2:\n",
    "            roles[leg]['thigh'] = jids[1]\n",
    "        if roles[leg]['calf'] is None and len(jids) >= 3:\n",
    "            roles[leg]['calf'] = jids[2]\n",
    "    return roles\n",
    "\n",
    "roles = identify_leg_roles(model, leg_joints)\n",
    "print(\"Detected leg roles:\", {k: {r: (model.joint(v).name if v is not None else None)\n",
    "                                for r, v in roles[k].items()} for k in roles})\n"
   ]
  },
  {
   "cell_type": "code",
   "execution_count": 5,
   "metadata": {},
   "outputs": [
    {
     "name": "stdout",
     "output_type": "stream",
     "text": [
      "\n",
      "Available joints:\n",
      "  [0] \n",
      "  [1] FL_hip_joint\n",
      "  [2] FL_thigh_joint\n",
      "  [3] FL_calf_joint\n",
      "  [4] FR_hip_joint\n",
      "  [5] FR_thigh_joint\n",
      "  [6] FR_calf_joint\n",
      "  [7] RL_hip_joint\n",
      "  [8] RL_thigh_joint\n",
      "  [9] RL_calf_joint\n",
      "  [10] RR_hip_joint\n",
      "  [11] RR_thigh_joint\n",
      "  [12] RR_calf_joint\n"
     ]
    }
   ],
   "source": [
    "print(\"\\nAvailable joints:\")\n",
    "leg_joints = {}\n",
    "for i in range(model.njnt):\n",
    "    jname = model.joint(i).name\n",
    "    print(f\"  [{i}] {jname}\")"
   ]
  },
  {
   "cell_type": "code",
   "execution_count": 6,
   "metadata": {},
   "outputs": [],
   "source": [
    "if jname.startswith('FL_'):\n",
    "    leg_joints.setdefault('FL', []).append(i)\n",
    "elif jname.startswith('FR_'):\n",
    "    leg_joints.setdefault('FR', []).append(i)\n",
    "elif jname.startswith('RL_'):\n",
    "    leg_joints.setdefault('RL', []).append(i)\n",
    "elif jname.startswith('RR_'):\n",
    "    leg_joints.setdefault('RR', []).append(i)"
   ]
  },
  {
   "cell_type": "code",
   "execution_count": 7,
   "metadata": {},
   "outputs": [
    {
     "name": "stdout",
     "output_type": "stream",
     "text": [
      "\n",
      "Leg joints grouped: {'RR': [12]}\n"
     ]
    }
   ],
   "source": [
    "for leg in leg_joints:\n",
    "    leg_joints[leg] = sorted(leg_joints[leg], key=lambda j: model.jnt_qposadr[j])\n",
    "    \n",
    "print(f\"\\nLeg joints grouped: {leg_joints}\")"
   ]
  },
  {
   "cell_type": "code",
   "execution_count": 9,
   "metadata": {},
   "outputs": [
    {
     "name": "stdout",
     "output_type": "stream",
     "text": [
      "Detected leg roles: {'RR': {'hip_pitch': None, 'thigh': None, 'calf': 'RR_calf_joint'}}\n"
     ]
    }
   ],
   "source": [
    "# identify roles by name so we use the hip-pitch DOF (fore/aft) not hip-yaw (turning)\n",
    "def identify_leg_roles(model, leg_joints):\n",
    "    roles = {}\n",
    "    for leg, jids in leg_joints.items():\n",
    "        roles[leg] = {'hip_pitch': None, 'thigh': None, 'calf': None}\n",
    "        for jid in jids:\n",
    "            nm = model.joint(jid).name.lower()\n",
    "            if 'hip' in nm and 'pitch' in nm:\n",
    "                roles[leg]['hip_pitch'] = jid\n",
    "            elif 'thigh' in nm or 'femur' in nm or 'upper' in nm:\n",
    "                roles[leg]['thigh'] = jid\n",
    "            elif 'calf' in nm or 'knee' in nm:\n",
    "                roles[leg]['calf'] = jid\n",
    "        # fallback: if hip_pitch not found, use first 'hip' containing joint or first joint\n",
    "        if roles[leg]['hip_pitch'] is None:\n",
    "            for jid in jids:\n",
    "                if 'hip' in model.joint(jid).name.lower():\n",
    "                    roles[leg]['hip_pitch'] = jid\n",
    "                    break\n",
    "        if roles[leg]['thigh'] is None and len(jids) >= 2:\n",
    "            roles[leg]['thigh'] = jids[1]\n",
    "        if roles[leg]['calf'] is None and len(jids) >= 3:\n",
    "            roles[leg]['calf'] = jids[2]\n",
    "    return roles\n",
    "\n",
    "roles = identify_leg_roles(model, leg_joints)\n",
    "print(\"Detected leg roles:\", {k: {r: (model.joint(v).name if v is not None else None)\n",
    "                                for r, v in roles[k].items()} for k in roles})\n"
   ]
  }
 ],
 "metadata": {
  "kernelspec": {
   "display_name": "unitree_env",
   "language": "python",
   "name": "python3"
  },
  "language_info": {
   "codemirror_mode": {
    "name": "ipython",
    "version": 3
   },
   "file_extension": ".py",
   "mimetype": "text/x-python",
   "name": "python",
   "nbconvert_exporter": "python",
   "pygments_lexer": "ipython3",
   "version": "3.11.13"
  }
 },
 "nbformat": 4,
 "nbformat_minor": 2
}
